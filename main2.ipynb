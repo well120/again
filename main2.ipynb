{
 "cells": [
  {
   "cell_type": "code",
   "execution_count": 7,
   "metadata": {},
   "outputs": [],
   "source": [
    "def lcs_bf(x, y):\n",
    "    if len(x) == 0 or len(y) == 0:\n",
    "        return []\n",
    "    if x[-1] == y[-1]:\n",
    "        return lcs_bf(x[:-1], y[:-1]) + [x[-1]]\n",
    "    else:\n",
    "        left = lcs_bf(x[:-1], y)\n",
    "        right = lcs_bf(x, y[:-1])\n",
    "        if len(left) > len(right):\n",
    "            return np.array(left) \n",
    "        else:\n",
    "            return np.array(right)\n",
    "\n",
    "a = np.array([1, 2, 3, 7, 5, 90])\n",
    "b = np.array([6, 1, 2, 3, 5, 4])\n",
    "lcs_bf(a, b)"
   ]
  },
  {
   "cell_type": "code",
   "execution_count": null,
   "metadata": {},
   "outputs": [],
   "source": []
  }
 ],
 "metadata": {
  "kernelspec": {
   "display_name": "Python 3",
   "language": "python",
   "name": "python3"
  },
  "language_info": {
   "codemirror_mode": {
    "name": "ipython",
    "version": 3
   },
   "file_extension": ".py",
   "mimetype": "text/x-python",
   "name": "python",
   "nbconvert_exporter": "python",
   "pygments_lexer": "ipython3",
   "version": "3.7.5"
  }
 },
 "nbformat": 4,
 "nbformat_minor": 2
}
